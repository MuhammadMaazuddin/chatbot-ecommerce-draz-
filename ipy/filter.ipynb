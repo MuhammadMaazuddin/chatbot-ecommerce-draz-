{
 "cells": [
  {
   "cell_type": "code",
   "execution_count": 1,
   "id": "115892d6-82e7-49e9-8384-915c3742f7c0",
   "metadata": {},
   "outputs": [],
   "source": [
    "import pandas as pd"
   ]
  },
  {
   "cell_type": "code",
   "execution_count": 2,
   "id": "7135135d-63c7-4af1-9af0-9a9d2054a16a",
   "metadata": {},
   "outputs": [],
   "source": [
    "df = pd.read_csv('/home/maaz/Desktop/PAI_Project/csv/new_data_1.csv')"
   ]
  },
  {
   "cell_type": "code",
   "execution_count": 84,
   "id": "113a81c2-1b59-46b8-8c24-5d128e1bbe1a",
   "metadata": {},
   "outputs": [],
   "source": [
    "df1 = df[(df['company'] == 'Redmi') ]\n",
    "df2 = df[(df['company'] == 'Xiaomi') ]\n",
    "df3 = df[(df['company'] == 'Apple') ]\n",
    "df4 = df[(df['company'] == 'Techno') ]\n",
    "df5 = df[(df['company'] == 'Samsung') ]\n",
    "df6 = df[(df['company'] == 'Vivo') ]\n",
    "df7 = df[(df['company'] == 'infinx') ]\n",
    "df8 = df[(df['company'] == 'OPPO') ]\n",
    "df9 = df[(df['company'] == 'Honor') ]\n",
    "df10 = df[(df['company'] == 'Sony') ]\n"
   ]
  },
  {
   "cell_type": "code",
   "execution_count": 39,
   "id": "d4504028-b1c3-462c-b4a4-06988a958745",
   "metadata": {},
   "outputs": [
    {
     "data": {
      "text/html": [
       "<div>\n",
       "<style scoped>\n",
       "    .dataframe tbody tr th:only-of-type {\n",
       "        vertical-align: middle;\n",
       "    }\n",
       "\n",
       "    .dataframe tbody tr th {\n",
       "        vertical-align: top;\n",
       "    }\n",
       "\n",
       "    .dataframe thead th {\n",
       "        text-align: right;\n",
       "    }\n",
       "</style>\n",
       "<table border=\"1\" class=\"dataframe\">\n",
       "  <thead>\n",
       "    <tr style=\"text-align: right;\">\n",
       "      <th></th>\n",
       "      <th>name</th>\n",
       "      <th>price</th>\n",
       "      <th>brand</th>\n",
       "      <th>specs</th>\n",
       "      <th>company</th>\n",
       "      <th>reviewID</th>\n",
       "      <th>score</th>\n",
       "      <th>link</th>\n",
       "      <th>num_of_qs</th>\n",
       "      <th>num_of_rev</th>\n",
       "    </tr>\n",
       "  </thead>\n",
       "  <tbody>\n",
       "  </tbody>\n",
       "</table>\n",
       "</div>"
      ],
      "text/plain": [
       "Empty DataFrame\n",
       "Columns: [name, price, brand, specs, company, reviewID, score, link, num_of_qs, num_of_rev]\n",
       "Index: []"
      ]
     },
     "execution_count": 39,
     "metadata": {},
     "output_type": "execute_result"
    }
   ],
   "source": [
    "df7.fillna(0)"
   ]
  },
  {
   "cell_type": "code",
   "execution_count": 103,
   "id": "f9c8f35e-b0b6-44cb-8d06-8bdbfe69728e",
   "metadata": {},
   "outputs": [
    {
     "data": {
      "text/plain": [
       "nan"
      ]
     },
     "execution_count": 103,
     "metadata": {},
     "output_type": "execute_result"
    }
   ],
   "source": [
    "m1 = df1['num_of_qs'].mean()\n",
    "m2 = df2['num_of_qs'].mean()\n",
    "m3 = df3['num_of_qs'].mean()\n",
    "m4 = df4['num_of_qs'].mean()\n",
    "m5 = df5['num_of_qs'].mean()\n",
    "m6 = df6['num_of_qs'].mean()\n",
    "m7 = df7['num_of_qs'].mean()\n",
    "m8 = df7['num_of_qs'].mean()\n",
    "m9 = df7['num_of_qs'].mean()\n",
    "m10 = df7['num_of_qs'].mean()\n",
    "m10"
   ]
  },
  {
   "cell_type": "code",
   "execution_count": 4,
   "id": "0392a32f-8ac3-494d-9669-61739019272c",
   "metadata": {},
   "outputs": [
    {
     "data": {
      "text/html": [
       "<div>\n",
       "<style scoped>\n",
       "    .dataframe tbody tr th:only-of-type {\n",
       "        vertical-align: middle;\n",
       "    }\n",
       "\n",
       "    .dataframe tbody tr th {\n",
       "        vertical-align: top;\n",
       "    }\n",
       "\n",
       "    .dataframe thead th {\n",
       "        text-align: right;\n",
       "    }\n",
       "</style>\n",
       "<table border=\"1\" class=\"dataframe\">\n",
       "  <thead>\n",
       "    <tr style=\"text-align: right;\">\n",
       "      <th></th>\n",
       "      <th>name</th>\n",
       "    </tr>\n",
       "  </thead>\n",
       "  <tbody>\n",
       "    <tr>\n",
       "      <th>0</th>\n",
       "      <td>Redmi12C</td>\n",
       "    </tr>\n",
       "    <tr>\n",
       "      <th>1</th>\n",
       "      <td>RedmiNote12</td>\n",
       "    </tr>\n",
       "    <tr>\n",
       "      <th>2</th>\n",
       "      <td>SamsungA14</td>\n",
       "    </tr>\n",
       "    <tr>\n",
       "      <th>3</th>\n",
       "      <td>InfinixNote</td>\n",
       "    </tr>\n",
       "    <tr>\n",
       "      <th>4</th>\n",
       "      <td>RedmiA2+</td>\n",
       "    </tr>\n",
       "    <tr>\n",
       "      <th>...</th>\n",
       "      <td>...</td>\n",
       "    </tr>\n",
       "    <tr>\n",
       "      <th>194</th>\n",
       "      <td>InfinixHot</td>\n",
       "    </tr>\n",
       "    <tr>\n",
       "      <th>195</th>\n",
       "      <td>RealmeC51RAM</td>\n",
       "    </tr>\n",
       "    <tr>\n",
       "      <th>196</th>\n",
       "      <td>Xiaomi13TPro</td>\n",
       "    </tr>\n",
       "    <tr>\n",
       "      <th>197</th>\n",
       "      <td>samsangNote8</td>\n",
       "    </tr>\n",
       "    <tr>\n",
       "      <th>198</th>\n",
       "      <td>Infinixsmart</td>\n",
       "    </tr>\n",
       "  </tbody>\n",
       "</table>\n",
       "<p>199 rows × 1 columns</p>\n",
       "</div>"
      ],
      "text/plain": [
       "             name\n",
       "0        Redmi12C\n",
       "1     RedmiNote12\n",
       "2      SamsungA14\n",
       "3     InfinixNote\n",
       "4        RedmiA2+\n",
       "..            ...\n",
       "194    InfinixHot\n",
       "195  RealmeC51RAM\n",
       "196  Xiaomi13TPro\n",
       "197  samsangNote8\n",
       "198  Infinixsmart\n",
       "\n",
       "[199 rows x 1 columns]"
      ]
     },
     "execution_count": 4,
     "metadata": {},
     "output_type": "execute_result"
    }
   ],
   "source": [
    "df1 = pd.DataFrame(df['name'])\n"
   ]
  },
  {
   "cell_type": "code",
   "execution_count": 10,
   "id": "af4c7938-f274-4b9e-bed3-6b07e4408ca3",
   "metadata": {},
   "outputs": [],
   "source": [
    "df1.to_csv('.csv' , index = False)"
   ]
  }
 ],
 "metadata": {
  "kernelspec": {
   "display_name": "Python 3 (ipykernel)",
   "language": "python",
   "name": "python3"
  },
  "language_info": {
   "codemirror_mode": {
    "name": "ipython",
    "version": 3
   },
   "file_extension": ".py",
   "mimetype": "text/x-python",
   "name": "python",
   "nbconvert_exporter": "python",
   "pygments_lexer": "ipython3",
   "version": "3.10.12"
  }
 },
 "nbformat": 4,
 "nbformat_minor": 5
}
