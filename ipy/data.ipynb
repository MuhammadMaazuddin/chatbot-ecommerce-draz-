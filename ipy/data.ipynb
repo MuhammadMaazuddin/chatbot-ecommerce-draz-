{
 "cells": [
  {
   "cell_type": "code",
   "execution_count": 151,
   "id": "66586177-df68-4a1c-83f4-7ad38245c28e",
   "metadata": {},
   "outputs": [],
   "source": [
    "from selenium import webdriver\n",
    "from selenium.webdriver.common.by import By\n",
    "from selenium.common.exceptions import NoSuchElementException\n",
    "from selenium.webdriver.chrome.service import Service as ChromeService\n",
    "from webdriver_manager.chrome import ChromeDriverManager\n",
    "from selenium.webdriver.support.ui import WebDriverWait\n",
    "import time  \n",
    "import pandas as pd\n",
    "import re"
   ]
  },
  {
   "cell_type": "code",
   "execution_count": 152,
   "id": "1c7fb798-1555-4ce8-8caa-a37f72a6b895",
   "metadata": {},
   "outputs": [],
   "source": [
    "driver = webdriver.Chrome()"
   ]
  },
  {
   "cell_type": "code",
   "execution_count": 5,
   "id": "7e7d8ad6-13a3-4fa5-b52a-ea9a5fe923c6",
   "metadata": {},
   "outputs": [],
   "source": [
    "links = []\n",
    "links.append(\"https://www.daraz.pk/catalog/?q=mobile&_keyori=ss&from=input&spm=a2a0e.home.search.go.35e34076b1MLh0\")\n",
    "links.append(\"https://www.daraz.pk/catalog/?_keyori=ss&from=input&page=2&q=mobile&spm=a2a0e.home.search.go.35e34076b1MLh0\")\n",
    "links.append(\"https://www.daraz.pk/catalog/?_keyori=ss&from=input&page=3&q=mobile&spm=a2a0e.home.search.go.35e34076b1MLh0\")\n",
    "links.append(\"https://www.daraz.pk/catalog/?_keyori=ss&from=input&page=4&q=mobile&spm=a2a0e.home.search.go.35e34076b1MLh0\")\n",
    "links.append(\"https://www.daraz.pk/catalog/?_keyori=ss&from=input&page=5&q=mobile&spm=a2a0e.home.search.go.35e34076b1MLh0\")"
   ]
  },
  {
   "cell_type": "code",
   "execution_count": 6,
   "id": "4a685213-fe0e-4f84-907a-0b4c99c21109",
   "metadata": {},
   "outputs": [],
   "source": [
    "product_link = []\n",
    "for link in links:\n",
    "    driver.get(link)\n",
    "    link_list = driver.find_elements(By.CLASS_NAME , \"gridItem--Yd0sa\")\n",
    "    for list in link_list:\n",
    "        tag = list.find_element(By.TAG_NAME , \"a\")\n",
    "        product_link.append(tag.get_attribute(\"href\"))\n",
    "    "
   ]
  },
  {
   "cell_type": "code",
   "execution_count": 9,
   "id": "b6158d8c-7353-4d26-bc12-c2e181113da0",
   "metadata": {},
   "outputs": [],
   "source": [
    "with open('page.txt', 'w') as file:\n",
    "    for item in product_link:\n",
    "        file.write(str(item) + '\\n')"
   ]
  },
  {
   "cell_type": "code",
   "execution_count": 153,
   "id": "20488697-46b9-427c-82d5-e77fcf73694a",
   "metadata": {},
   "outputs": [],
   "source": [
    "file_path = 'page.txt'\n",
    "with open(file_path, 'r') as file:\n",
    "    product_link = file.read().splitlines()"
   ]
  },
  {
   "cell_type": "code",
   "execution_count": 156,
   "id": "30b1c4f6-86b1-4a11-8e5b-781862e61cc3",
   "metadata": {},
   "outputs": [],
   "source": [
    "name = []\n",
    "price = []\n",
    "brand = []\n",
    "review = []\n",
    "specs = []\n",
    "company = []\n",
    "reviewID = []\n",
    "score = []"
   ]
  },
  {
   "cell_type": "code",
   "execution_count": null,
   "id": "16e73fbd-26cf-443e-8048-33be8c05bff5",
   "metadata": {},
   "outputs": [],
   "source": [
    "for i in range(0 , 200):\n",
    "    driver.get(product_link[i])\n",
    "    time.sleep(1)\n",
    "    try:\n",
    "        l1 = driver.find_element(By.CLASS_NAME , \"pdp-mod-product-badge-wrapper\")\n",
    "        l1 = l1.text\n",
    "        l2 = l1.split(' ')[:4]\n",
    "        l3 = l1.split(' ')[2:6]\n",
    "        company.append(''.join(l2[:1]))\n",
    "        specs.append(' '.join(l3))\n",
    "        for k, item in enumerate(l2):\n",
    "            if \"GB\" in item:\n",
    "                name.append(' '.join(l2[:k]))\n",
    "                break\n",
    "            elif k > 2:\n",
    "                name.append(' '.join(l2[:2]))\n",
    "        \n",
    "    except NoSuchElementException:\n",
    "        name.append('-')\n",
    "        company.append('-')\n",
    "        specs.append('-')\n",
    "        print(\"element not found in name\")\n",
    "        pass\n",
    "    try:\n",
    "        l1 = driver.find_element(By.CLASS_NAME , \"pdp-product-price\").text\n",
    "        price.append(''.join(l1.split('\\n')[0]))\n",
    "    except NoSuchElementException:\n",
    "        price.append('-')\n",
    "        print(\"no element found in price\")\n",
    "        pass\n",
    "    try:\n",
    "        l1 = driver.find_element(By.CLASS_NAME , \"pdp-product-brand\")\n",
    "        l1 = l1.find_element(By.TAG_NAME , \"a\").text\n",
    "        brand.append(l1)\n",
    "    except NoSuchElementException:\n",
    "        brand.append('no brand')\n",
    "        print(\"no element found in brand\")\n",
    "        pass\n",
    "    try:\n",
    "        driver.execute_script(\"window.scrollTo(800, 1100);\")\n",
    "        time.sleep(1)\n",
    "        l1 = driver.find_element(By.CLASS_NAME , \"review-info\").text\n",
    "        score.append(''.join(l1.split('\\n')[0]))\n",
    "    except NoSuchElementException:\n",
    "        score.append('-')\n",
    "        print(\"no element found in score\")\n",
    "        pass\n",
    "    try:\n",
    "        l1 = driver.find_element(By.CLASS_NAME , \"review-content\")\n",
    "        l1 = l1.find_elements(By.CLASS_NAME , \"review-item\")\n",
    "        str = ''\n",
    "        for j in l1:\n",
    "            str+=j.text\n",
    "        review.append(str)\n",
    "        reviewID.append(\"{:03}\".format(i+1))\n",
    "    except NoSuchElementException:\n",
    "        review.append('-')\n",
    "        reviewID.append(\"{:03}\".format(i+1))\n",
    "        print(\"no element found in review\")\n",
    "        pass\n",
    "        \n",
    "        \n",
    "        \n",
    "    "
   ]
  },
  {
   "cell_type": "code",
   "execution_count": 144,
   "id": "f132ad36-6e55-48b1-a4a2-b07c35688ed8",
   "metadata": {},
   "outputs": [
    {
     "data": {
      "text/plain": [
       "149"
      ]
     },
     "execution_count": 144,
     "metadata": {},
     "output_type": "execute_result"
    }
   ],
   "source": [
    "len(name)"
   ]
  },
  {
   "cell_type": "code",
   "execution_count": 145,
   "id": "2c84d778-83a6-4b4e-98f9-20624ede2a8d",
   "metadata": {},
   "outputs": [],
   "source": [
    "dict1 = {\n",
    "    'name': name,\n",
    "    'price':price,\n",
    "    'brand':brand,\n",
    "\n",
    "    'specs':specs,\n",
    "    'company':company,\n",
    "    'reviewID':reviewID,\n",
    "    'score':score,\n",
    "}\n",
    "dict2 = {\n",
    "    'review':review,\n",
    "    'reviewID':reviewID\n",
    "}"
   ]
  },
  {
   "cell_type": "code",
   "execution_count": 119,
   "id": "824f1c59-010b-496b-8298-87762b303e9b",
   "metadata": {},
   "outputs": [],
   "source": [
    "name.append(\"Sumsang Note 11\")\n",
    "name.append(\"Iphone 14 pro max\")"
   ]
  },
  {
   "cell_type": "code",
   "execution_count": 149,
   "id": "ab947e5d-52cd-440e-a0c1-888895a201a5",
   "metadata": {},
   "outputs": [
    {
     "data": {
      "text/html": [
       "<div>\n",
       "<style scoped>\n",
       "    .dataframe tbody tr th:only-of-type {\n",
       "        vertical-align: middle;\n",
       "    }\n",
       "\n",
       "    .dataframe tbody tr th {\n",
       "        vertical-align: top;\n",
       "    }\n",
       "\n",
       "    .dataframe thead th {\n",
       "        text-align: right;\n",
       "    }\n",
       "</style>\n",
       "<table border=\"1\" class=\"dataframe\">\n",
       "  <thead>\n",
       "    <tr style=\"text-align: right;\">\n",
       "      <th></th>\n",
       "      <th>review</th>\n",
       "      <th>reviewID</th>\n",
       "    </tr>\n",
       "  </thead>\n",
       "  <tbody>\n",
       "    <tr>\n",
       "      <th>0</th>\n",
       "      <td>Asb\\n6 days ago\\n...\\nawesome condition...very...</td>\n",
       "      <td>052</td>\n",
       "    </tr>\n",
       "    <tr>\n",
       "      <th>1</th>\n",
       "      <td>Abdul H.\\n2 weeks ago\\n...\\nhighly recommend.....</td>\n",
       "      <td>053</td>\n",
       "    </tr>\n",
       "    <tr>\n",
       "      <th>2</th>\n",
       "      <td>Zeeshan M.\\n5 days ago\\n...\\nTotally satisfied...</td>\n",
       "      <td>054</td>\n",
       "    </tr>\n",
       "    <tr>\n",
       "      <th>3</th>\n",
       "      <td>Asif B.\\n7 months ago\\n...\\nphone is damaged f...</td>\n",
       "      <td>055</td>\n",
       "    </tr>\n",
       "    <tr>\n",
       "      <th>4</th>\n",
       "      <td>Muhammad K.\\n2 months ago\\n...\\nIt was an abso...</td>\n",
       "      <td>056</td>\n",
       "    </tr>\n",
       "    <tr>\n",
       "      <th>...</th>\n",
       "      <td>...</td>\n",
       "      <td>...</td>\n",
       "    </tr>\n",
       "    <tr>\n",
       "      <th>144</th>\n",
       "      <td>Khalid H.\\n3 weeks ago\\n...\\nI'm extremely sat...</td>\n",
       "      <td>196</td>\n",
       "    </tr>\n",
       "    <tr>\n",
       "      <th>145</th>\n",
       "      <td>Mehboob U.\\n2 months ago\\n...\\noutstanding. sa...</td>\n",
       "      <td>197</td>\n",
       "    </tr>\n",
       "    <tr>\n",
       "      <th>146</th>\n",
       "      <td>Muhammad A.\\n4 months ago\\n...\\nAoa Jaisa bola...</td>\n",
       "      <td>198</td>\n",
       "    </tr>\n",
       "    <tr>\n",
       "      <th>147</th>\n",
       "      <td>-</td>\n",
       "      <td>199</td>\n",
       "    </tr>\n",
       "    <tr>\n",
       "      <th>148</th>\n",
       "      <td>-</td>\n",
       "      <td>200</td>\n",
       "    </tr>\n",
       "  </tbody>\n",
       "</table>\n",
       "<p>149 rows × 2 columns</p>\n",
       "</div>"
      ],
      "text/plain": [
       "                                                review reviewID\n",
       "0    Asb\\n6 days ago\\n...\\nawesome condition...very...      052\n",
       "1    Abdul H.\\n2 weeks ago\\n...\\nhighly recommend.....      053\n",
       "2    Zeeshan M.\\n5 days ago\\n...\\nTotally satisfied...      054\n",
       "3    Asif B.\\n7 months ago\\n...\\nphone is damaged f...      055\n",
       "4    Muhammad K.\\n2 months ago\\n...\\nIt was an abso...      056\n",
       "..                                                 ...      ...\n",
       "144  Khalid H.\\n3 weeks ago\\n...\\nI'm extremely sat...      196\n",
       "145  Mehboob U.\\n2 months ago\\n...\\noutstanding. sa...      197\n",
       "146  Muhammad A.\\n4 months ago\\n...\\nAoa Jaisa bola...      198\n",
       "147                                                  -      199\n",
       "148                                                  -      200\n",
       "\n",
       "[149 rows x 2 columns]"
      ]
     },
     "execution_count": 149,
     "metadata": {},
     "output_type": "execute_result"
    }
   ],
   "source": [
    "import pandas as pd\n",
    "df = pd.DataFrame(dict2)\n",
    "df"
   ]
  },
  {
   "cell_type": "code",
   "execution_count": 150,
   "id": "3b4630d9-79e0-4085-bd5c-0e17611e4c21",
   "metadata": {},
   "outputs": [],
   "source": [
    "df.to_csv('review.csv', mode='a', header=False, index=False)\n"
   ]
  }
 ],
 "metadata": {
  "kernelspec": {
   "display_name": "Python 3 (ipykernel)",
   "language": "python",
   "name": "python3"
  },
  "language_info": {
   "codemirror_mode": {
    "name": "ipython",
    "version": 3
   },
   "file_extension": ".py",
   "mimetype": "text/x-python",
   "name": "python",
   "nbconvert_exporter": "python",
   "pygments_lexer": "ipython3",
   "version": "3.10.12"
  }
 },
 "nbformat": 4,
 "nbformat_minor": 5
}
